{
 "cells": [
  {
   "cell_type": "code",
   "execution_count": 1,
   "metadata": {
    "collapsed": true
   },
   "outputs": [
    {
     "name": "stderr",
     "output_type": "stream",
     "text": [
      "<ipython-input-1-f190f48d2d0e> | DEBUG    | 2019-04-12 16:29:16,687        |                  Added modified stream handler to logger.\n"
     ]
    }
   ],
   "source": [
    "import os\n",
    "import inspect\n",
    "import logging\n",
    "from src import utils\n",
    "\n",
    "\n",
    "# __file__ is usually defined, but not in interactive environments like this\n",
    "__file__ = inspect.getfile(inspect.currentframe())\n",
    "\n",
    "# Set up the logger\n",
    "logger = logging.getLogger(os.path.basename(__file__))\n",
    "logger = utils.logging.configure_logger(logger)"
   ]
  },
  {
   "cell_type": "code",
   "execution_count": 2,
   "metadata": {},
   "outputs": [
    {
     "name": "stderr",
     "output_type": "stream",
     "text": [
      "models.py    | DEBUG    | 2019-04-12 16:29:17,937        |                                          Added modified stream handler to logger.\n"
     ]
    }
   ],
   "source": [
    "from src.models import GTLibraryGridWarehouse\n",
    "from tsp import held_karp as tsp_help_karp\n",
    "import numpy as np"
   ]
  },
  {
   "cell_type": "code",
   "execution_count": 4,
   "metadata": {
    "collapsed": false
   },
   "outputs": [
    {
     "name": "stderr",
     "output_type": "stream",
     "text": [
      "<ipython-input-1-f190f48d2d0e> | DEBUG    | 2019-04-12 16:29:31,829        |                              Choosing 10 books at random.\n"
     ]
    },
    {
     "name": "stderr",
     "output_type": "stream",
     "text": [
      "<ipython-input-1-f190f48d2d0e> | DEBUG    | 2019-04-12 16:29:31,852        |                              Getting sub-graph on chosen book locations and source for TSP.\n"
     ]
    },
    {
     "name": "stderr",
     "output_type": "stream",
     "text": [
      "<ipython-input-1-f190f48d2d0e> | DEBUG    | 2019-04-12 16:29:31,950        |                              Solving TSP for selected books.\n"
     ]
    },
    {
     "name": "stderr",
     "output_type": "stream",
     "text": [
      "<ipython-input-1-f190f48d2d0e> | DEBUG    | 2019-04-12 16:29:32,048        |                              Patching up solution.\n"
     ]
    },
    {
     "name": "stderr",
     "output_type": "stream",
     "text": [
      "<ipython-input-1-f190f48d2d0e> | DEBUG    | 2019-04-12 16:29:32,055        |                              Computing cell-by-cell pick path in library based on TSP solution.\n"
     ]
    },
    {
     "name": "stderr",
     "output_type": "stream",
     "text": [
      "models.py    | DEBUG    | 2019-04-12 16:29:32,107        |                                      Shortcutting path with 13 cells.\n"
     ]
    },
    {
     "name": "stderr",
     "output_type": "stream",
     "text": [
      "models.py    | DEBUG    | 2019-04-12 16:29:34,668        |                                      Path now has 13 cells.\n"
     ]
    },
    {
     "name": "stderr",
     "output_type": "stream",
     "text": [
      "models.py    | DEBUG    | 2019-04-12 16:29:34,675        |                                      Shortcutting path with 19 cells.\n"
     ]
    },
    {
     "name": "stderr",
     "output_type": "stream",
     "text": [
      "models.py    | DEBUG    | 2019-04-12 16:29:38,422        |                                      Path now has 19 cells.\n"
     ]
    },
    {
     "name": "stderr",
     "output_type": "stream",
     "text": [
      "models.py    | DEBUG    | 2019-04-12 16:29:38,428        |                                      Shortcutting path with 3 cells.\n"
     ]
    },
    {
     "name": "stderr",
     "output_type": "stream",
     "text": [
      "models.py    | DEBUG    | 2019-04-12 16:29:38,435        |                                      Path now has 3 cells.\n"
     ]
    },
    {
     "name": "stderr",
     "output_type": "stream",
     "text": [
      "models.py    | DEBUG    | 2019-04-12 16:29:38,450        |                                      Shortcutting path with 22 cells.\n"
     ]
    },
    {
     "name": "stderr",
     "output_type": "stream",
     "text": [
      "models.py    | DEBUG    | 2019-04-12 16:29:39,558        |                                      Path now has 22 cells.\n"
     ]
    },
    {
     "name": "stderr",
     "output_type": "stream",
     "text": [
      "models.py    | DEBUG    | 2019-04-12 16:29:39,569        |                                      Shortcutting path with 3 cells.\n"
     ]
    },
    {
     "name": "stderr",
     "output_type": "stream",
     "text": [
      "models.py    | DEBUG    | 2019-04-12 16:29:39,582        |                                      Path now has 3 cells.\n"
     ]
    },
    {
     "name": "stderr",
     "output_type": "stream",
     "text": [
      "models.py    | DEBUG    | 2019-04-12 16:29:39,593        |                                      Shortcutting path with 6 cells.\n"
     ]
    },
    {
     "name": "stderr",
     "output_type": "stream",
     "text": [
      "models.py    | DEBUG    | 2019-04-12 16:29:39,615        |                                      Path now has 6 cells.\n"
     ]
    },
    {
     "name": "stderr",
     "output_type": "stream",
     "text": [
      "models.py    | DEBUG    | 2019-04-12 16:29:39,638        |                                      Shortcutting path with 22 cells.\n"
     ]
    },
    {
     "name": "stderr",
     "output_type": "stream",
     "text": [
      "models.py    | DEBUG    | 2019-04-12 16:29:41,860        |                                      Path now has 22 cells.\n"
     ]
    },
    {
     "name": "stderr",
     "output_type": "stream",
     "text": [
      "models.py    | DEBUG    | 2019-04-12 16:29:41,865        |                                      Shortcutting path with 6 cells.\n"
     ]
    },
    {
     "name": "stderr",
     "output_type": "stream",
     "text": [
      "models.py    | DEBUG    | 2019-04-12 16:29:42,105        |                                      Path now has 6 cells.\n"
     ]
    },
    {
     "name": "stderr",
     "output_type": "stream",
     "text": [
      "models.py    | DEBUG    | 2019-04-12 16:29:42,111        |                                      Shortcutting path with 6 cells.\n"
     ]
    },
    {
     "name": "stderr",
     "output_type": "stream",
     "text": [
      "models.py    | DEBUG    | 2019-04-12 16:29:42,338        |                                      Path now has 6 cells.\n"
     ]
    },
    {
     "name": "stderr",
     "output_type": "stream",
     "text": [
      "models.py    | DEBUG    | 2019-04-12 16:29:42,346        |                                      Shortcutting path with 9 cells.\n"
     ]
    },
    {
     "name": "stderr",
     "output_type": "stream",
     "text": [
      "models.py    | DEBUG    | 2019-04-12 16:29:43,392        |                                      Path now has 9 cells.\n"
     ]
    },
    {
     "name": "stderr",
     "output_type": "stream",
     "text": [
      "models.py    | DEBUG    | 2019-04-12 16:29:43,397        |                                      Shortcutting path with 20 cells.\n"
     ]
    },
    {
     "name": "stderr",
     "output_type": "stream",
     "text": [
      "models.py    | DEBUG    | 2019-04-12 16:29:50,002        |                                      Path now has 20 cells.\n"
     ]
    },
    {
     "name": "stderr",
     "output_type": "stream",
     "text": [
      "<ipython-input-1-f190f48d2d0e> | DEBUG    | 2019-04-12 16:29:50,008        |                              Verifying solution has right format and cost.\n"
     ]
    },
    {
     "name": "stderr",
     "output_type": "stream",
     "text": [
      "<ipython-input-1-f190f48d2d0e> | DEBUG    | 2019-04-12 16:29:50,014        |                              Packaging solution in dictionary.\n"
     ]
    }
   ],
   "source": [
    "# Load the warehouse object from the JSON file\n",
    "gt_library_warehouse = GTLibraryGridWarehouse.from_file('data/warehouse.json')\n",
    "\n",
    "books_per_pick_path = 10\n",
    "\n",
    "logger.debug('Choosing %d books at random.' % books_per_pick_path)\n",
    "unordered_books = np.random.choice(\n",
    "    a=gt_library_warehouse.books,\n",
    "    size=books_per_pick_path,\n",
    "    replace=False,\n",
    ")\n",
    "\n",
    "unordered_books_locations = gt_library_warehouse.get_locations_of_books(unordered_books)\n",
    "\n",
    "logger.debug('Getting sub-graph on chosen book locations and source for TSP.')\n",
    "# If two books are on the same column, this method will consider them the same cell,\n",
    "# This is why we'll need reintroduce_duplicate_column_locations later\n",
    "G_subgraph = gt_library_warehouse.get_subgraph_on_book_locations(unordered_books_locations)\n",
    "\n",
    "logger.debug('Solving TSP for selected books.')\n",
    "optimal_pick_path, optimal_cost = tsp_help_karp.solver(G_subgraph, gt_library_warehouse.source_cell)\n",
    "\n",
    "logger.debug('Patching up solution.')\n",
    "ordered_books, ordered_locations = gt_library_warehouse.reintroduce_duplicate_column_locations(\n",
    "    zip(unordered_books, unordered_books_locations), optimal_pick_path)\n",
    "\n",
    "# The optimal pick path has two more source locations (source, ..., source)\n",
    "assert len(unordered_books) == len(ordered_books) - 2 == len(ordered_locations) - 2\n",
    "\n",
    "logger.debug('Computing cell-by-cell pick path in library based on TSP solution.')\n",
    "optimal_pick_path_in_library = gt_library_warehouse.get_pick_path_in_library(ordered_locations)\n",
    "\n",
    "logger.debug('Verifying solution has right format and cost.')\n",
    "utils.assertions.assert_library_pick_path_is_proper(\n",
    "    optimal_pick_path_in_library, ordered_locations, gt_library_warehouse.source_cell)\n",
    "utils.assertions.assert_library_pick_path_has_cost(\n",
    "    optimal_pick_path_in_library, optimal_cost, len(ordered_books[1:-1]))\n",
    "\n",
    "logger.debug('Packaging solution in dictionary.')\n",
    "d = gt_library_warehouse.get_pick_path_as_dict(\n",
    "    unordered_books,\n",
    "    unordered_books_locations,\n",
    "    ordered_books,\n",
    "    ordered_locations,\n",
    "    optimal_pick_path_in_library,\n",
    ")\n",
    "\n"
   ]
  },
  {
   "cell_type": "code",
   "execution_count": 7,
   "metadata": {
    "collapsed": false
   },
   "outputs": [
    {
     "name": "stderr",
     "output_type": "stream",
     "text": [
      "renderer.py  | INFO     | 2019-04-12 16:29:57,913        |                  Starting render...\n"
     ]
    },
    {
     "name": "stderr",
     "output_type": "stream",
     "text": [
      "renderer.py  | DEBUG    | 2019-04-12 16:29:57,935        |                  Cleared previous elements from canvas.\n"
     ]
    },
    {
     "name": "stderr",
     "output_type": "stream",
     "text": [
      "renderer.py  | DEBUG    | 2019-04-12 16:29:57,953        |                  Drew column lines.\n"
     ]
    },
    {
     "name": "stderr",
     "output_type": "stream",
     "text": [
      "renderer.py  | DEBUG    | 2019-04-12 16:29:57,974        |                  Drew row lines.\n"
     ]
    },
    {
     "name": "stderr",
     "output_type": "stream",
     "text": [
      "renderer.py  | DEBUG    | 2019-04-12 16:29:57,998        |                  Drew all cells with appropriate colors.\n"
     ]
    },
    {
     "name": "stderr",
     "output_type": "stream",
     "text": [
      "renderer.py  | DEBUG    | 2019-04-12 16:29:58,053        |                  Drew chevron and path direction lines.\n"
     ]
    },
    {
     "name": "stderr",
     "output_type": "stream",
     "text": [
      "renderer.py  | DEBUG    | 2019-04-12 16:29:58,068        |                  Drew target books.\n"
     ]
    },
    {
     "name": "stderr",
     "output_type": "stream",
     "text": [
      "renderer.py  | DEBUG    | 2019-04-12 16:29:58,089        |                  Drew pick path.\n"
     ]
    },
    {
     "name": "stderr",
     "output_type": "stream",
     "text": [
      "renderer.py  | DEBUG    | 2019-04-12 16:29:58,110        |                  Drew title.\n"
     ]
    },
    {
     "name": "stderr",
     "output_type": "stream",
     "text": [
      "renderer.py  | INFO     | 2019-04-12 16:29:58,350        |                  Finished render.\n"
     ]
    }
   ],
   "source": [
    "from src import viz\n",
    "import json\n",
    "\n",
    "\n",
    "with open('pick-paths.json', mode='r') as f:\n",
    "    pick_path_data = json.load(f)\n",
    "\n",
    "PICK_PATH_FILE_FORMAT_VERSION = '2.0'\n",
    "\n",
    "assert pick_path_data['version'] == PICK_PATH_FILE_FORMAT_VERSION\n",
    "\n",
    "pick_path = pick_path_data['pickPaths'][0]\n",
    "\n",
    "path = viz.renderer.render_gt_library_grid_warehouse(gt_library_warehouse, pick_path=pick_path)\n"
   ]
  },
  {
   "cell_type": "code",
   "execution_count": 8,
   "metadata": {},
   "outputs": [
    {
     "data": {
      "text/plain": [
       "<matplotlib.image.AxesImage at 0x121a896a0>"
      ]
     },
     "execution_count": 8,
     "metadata": {},
     "output_type": "execute_result"
    },
    {
     "data": {
      "image/png": "[encoded data removed]",
      "text/plain": [
       "<Figure size 1080x1080 with 1 Axes>"
      ]
     },
     "metadata": {},
     "output_type": "display_data"
    }
   ],
   "source": [
    "# https://pages.uoregon.edu/koch/\n",
    "\n",
    "%matplotlib inline\n",
    "# from src import viz\n",
    "# viz.show.image(path)\n",
    "\n",
    "import matplotlib.image as mpimg\n",
    "import matplotlib.pyplot as plt\n",
    "\n",
    "im = mpimg.imread(path)\n",
    "height, width = im.shape[:2]\n",
    "fig, ax = plt.subplots(figsize=(15, 15))\n",
    "ax.imshow(im)"
   ]
  },
  {
   "cell_type": "code",
   "execution_count": null,
   "metadata": {},
   "outputs": [],
   "source": []
  }
 ],
 "metadata": {
  "kernelspec": {
   "display_name": "Python 2",
   "language": "python",
   "name": "python2"
  },
  "language_info": {
   "codemirror_mode": {
    "name": "ipython",
    "version": 2
   },
   "file_extension": ".py",
   "mimetype": "text/x-python",
   "name": "python",
   "nbconvert_exporter": "python",
   "pygments_lexer": "ipython2",
   "version": "2.7.6"
  }
 },
 "nbformat": 4,
 "nbformat_minor": 0
}
